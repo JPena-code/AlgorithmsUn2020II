{
  "nbformat": 4,
  "nbformat_minor": 0,
  "metadata": {
    "colab": {
      "name": "Gale-Shapley.ipynb",
      "provenance": [],
      "authorship_tag": "ABX9TyMDn8Gni3TqSl0CvLv9Bsfj",
      "include_colab_link": true
    },
    "kernelspec": {
      "name": "python3",
      "display_name": "Python 3"
    }
  },
  "cells": [
    {
      "cell_type": "markdown",
      "metadata": {
        "id": "view-in-github",
        "colab_type": "text"
      },
      "source": [
        "<a href=\"https://colab.research.google.com/github/jequinterope/AlgorithmsUn2020II/blob/master/GaleShapleyIrving/Gale_Shapley.ipynb\" target=\"_parent\"><img src=\"https://colab.research.google.com/assets/colab-badge.svg\" alt=\"Open In Colab\"/></a>"
      ]
    },
    {
      "cell_type": "code",
      "metadata": {
        "id": "CKFiqZJE7BlY"
      },
      "source": [
        "import numpy as np\n",
        "import matplotlib.pyplot as plt"
      ],
      "execution_count": 1,
      "outputs": []
    },
    {
      "cell_type": "code",
      "metadata": {
        "id": "L0MtSVHnNSUu"
      },
      "source": [
        "def wPrefersM1OverM(prefer, w, m, m1):   \n",
        "    # Comprueba si w prefiere m1 sobre m, si prefiere a m retorna True \n",
        "    for i in range(N):\n",
        "        if (prefer[w][i] == m1):\n",
        "            return True\n",
        "        if (prefer[w][i] == m):\n",
        "            return False "
      ],
      "execution_count": 2,
      "outputs": []
    },
    {
      "cell_type": "code",
      "metadata": {
        "id": "Nx1LGWDQNL3t"
      },
      "source": [
        "def stableMarriage(prefer, N):\n",
        "  # Genera las parejas estables para N niños y N niñas en la que los niños hacen las propuestas\n",
        "  # Los niños van enumerados del 0 a N - 1\n",
        "  # Las niñas van desde N a 2N - 1\n",
        "\n",
        "  iteration = 0\n",
        "  proporsal = 0\n",
        "\n",
        "  # Lista donde si indicara cual es el compañero de la niña, el valor de -1 indica que la niña aun esta disponible\n",
        "  wPartner = [-1 for i in range(N)] \n",
        "  \n",
        "  # Lista donde se almacera si el niño aun no tiene pareja en caso de que halla sido rechazado\n",
        "  mPaired = [False for i in range(N)]\n",
        "  freeCount = N \n",
        "  while (freeCount > 0):\n",
        "    # Busca al primer hombre que aun este emparejado\n",
        "    for m in range(N):\n",
        "      # Recorre todos los niños que aun no esten emparejados, y posteriormente hace la propuesta a las niñas de su lista de preferencia\n",
        "      if (mPaired[m]):\n",
        "        continue\n",
        "      i = 0\n",
        "      while i < N and not mPaired[m]:\n",
        "        # Primera niña en la lista de preferencia del niño m\n",
        "        w = prefer[m][i]\n",
        "        # Si la niña aun no esta emparejada se asigna en esta iteracion el niño que haga la propuesta\n",
        "        if (wPartner[w - N] == -1):\n",
        "          wPartner[w - N] = m\n",
        "          mPaired[m] = True\n",
        "          freeCount -= 1\n",
        "        else:\n",
        "          # Buscamos la pareja actual de w, m1\n",
        "          m1 = wPartner[w - N]\n",
        "          \n",
        "          # Comprobamos si w prefiera a m1 sobre m para corregir el emparejamiento\n",
        "          if (not wPrefersM1OverM(prefer, w, m, m1)):\n",
        "            wPartner[w - N] = m\n",
        "            mPaired[m] = True\n",
        "            mPaired[m1] = False\n",
        "        i += 1\n",
        "      proporsal += 1\n",
        "    iteration += 1\n",
        "  return (wPartner, iteration, proporsal)"
      ],
      "execution_count": 3,
      "outputs": []
    },
    {
      "cell_type": "markdown",
      "metadata": {
        "id": "KypLzHM7GU3X"
      },
      "source": [
        "## Parejas estables para $n=4$ y $n = 40$\n",
        "Los niños se encuentran enumerados des de 0 hasta $n-1$ y las nuñas estan enumeraddas desde $n$ hasta $2n - 1$ las listas de preferencia de las niñas y los niñoes estan almacenadas en una matriz de tamaño $2n$ x $n$ donde las filas representan las lista de preferencias de cada individuo comenzando por la lista de preferencia de los niños y posteriormen las listas de preferencia de las niñas"
      ]
    },
    {
      "cell_type": "code",
      "metadata": {
        "colab": {
          "base_uri": "https://localhost:8080/"
        },
        "id": "i2x1F5jiOPAr",
        "outputId": "e0153aa5-a5e5-4076-d817-38ab97af7450"
      },
      "source": [
        "# Mejor Caso para n = 4\n",
        "N = 4\n",
        "prefer = [[4, 5, 6, 7],\n",
        "          [5, 6, 4, 7],\n",
        "          [6, 5, 4, 7],\n",
        "          [7, 4, 6, 5],\n",
        "          [0, 2, 3, 1],\n",
        "          [1, 3, 0, 2],\n",
        "          [2, 0, 1, 3],\n",
        "          [3, 1, 2, 3]] \n",
        "\n",
        "(wPartner, iteration, proporsal) = stableMarriage(prefer, N)\n",
        "\n",
        "print(\"Number of iterations:\", iteration)\n",
        "print(\"Number of proporsal: \", proporsal)\n",
        "print(\"Woman \", \" Man\")\n",
        "for i in range(N):\n",
        "  print(i + N, \"\\t\", wPartner[i])"
      ],
      "execution_count": 4,
      "outputs": [
        {
          "output_type": "stream",
          "text": [
            "Number of iterations: 1\n",
            "Number of proporsal:  4\n",
            "Woman   Man\n",
            "4 \t 0\n",
            "5 \t 1\n",
            "6 \t 2\n",
            "7 \t 3\n"
          ],
          "name": "stdout"
        }
      ]
    },
    {
      "cell_type": "code",
      "metadata": {
        "colab": {
          "base_uri": "https://localhost:8080/"
        },
        "id": "OvsuCYZhxG9b",
        "outputId": "7ad1bcec-46be-459c-8a33-1a034be3ea57"
      },
      "source": [
        "# Peor caso para n = 4\n",
        "prefer = [[4, 5, 6, 7],\n",
        "          [5, 6, 4, 7],\n",
        "          [6, 5, 4, 7],\n",
        "          [4, 5, 6, 7],\n",
        "          [1, 2, 3, 0],\n",
        "          [2, 3, 0, 1],\n",
        "          [3, 0, 1, 2],\n",
        "          [0, 1, 2, 3]] \n",
        "\n",
        "(wPartner, iteration, proporsal) = stableMarriage(prefer, N)\n",
        "\n",
        "print(\"Number of iterations:\", iteration)\n",
        "print(\"Number of proporsal: \", proporsal)\n",
        "print(\"Woman \", \" Man\")\n",
        "for i in range(N):\n",
        "  print(i + N, \"\\t\", wPartner[i])"
      ],
      "execution_count": 5,
      "outputs": [
        {
          "output_type": "stream",
          "text": [
            "Number of iterations: 4\n",
            "Number of proporsal:  11\n",
            "Woman   Man\n",
            "4 \t 1\n",
            "5 \t 2\n",
            "6 \t 3\n",
            "7 \t 0\n"
          ],
          "name": "stdout"
        }
      ]
    },
    {
      "cell_type": "code",
      "metadata": {
        "colab": {
          "base_uri": "https://localhost:8080/"
        },
        "id": "5rhOQ_xcKJBG",
        "outputId": "673c69d4-6c83-45c6-ec2d-4ba205c0d593"
      },
      "source": [
        "# Peor caso para n = 40\n",
        "N = 40\n",
        "\n",
        "prefer = [[40,41,42,43,44,45,46,47,48,49,50,51,52,53,54,55,56,57,58,59,60,61,62,63,64,65,66,67,68,69,70,71,72,73,74,75,76,77,78,79],\n",
        "               [41,42,43,44,45,46,47,48,49,50,51,52,53,54,55,56,57,58,59,60,61,62,63,64,65,66,67,68,69,70,71,72,73,74,75,76,77,78,40,79],\n",
        "               [42,43,44,45,46,47,48,49,50,51,52,53,54,55,56,57,58,59,60,61,62,63,64,65,66,67,68,69,70,71,72,73,74,75,76,77,78,40,41,79],\n",
        "               [43,44,45,46,47,48,49,50,51,52,53,54,55,56,57,58,59,60,61,62,63,64,65,66,67,68,69,70,71,72,73,74,75,76,77,78,40,41,42,79],\n",
        "               [44,45,46,47,48,49,50,51,52,53,54,55,56,57,58,59,60,61,62,63,64,65,66,67,68,69,70,71,72,73,74,75,76,77,78,40,41,42,43,79],\n",
        "               [45,46,47,48,49,50,51,52,53,54,55,56,57,58,59,60,61,62,63,64,65,66,67,68,69,70,71,72,73,74,75,76,77,78,40,41,42,43,44,79],\n",
        "               [46,47,48,49,50,51,52,53,54,55,56,57,58,59,60,61,62,63,64,65,66,67,68,69,70,71,72,73,74,75,76,77,78,40,41,42,43,44,45,79],\n",
        "               [47,48,49,50,51,52,53,54,55,56,57,58,59,60,61,62,63,64,65,66,67,68,69,70,71,72,73,74,75,76,77,78,40,41,42,43,44,45,46,79],\n",
        "               [48,49,50,51,52,53,54,55,56,57,58,59,60,61,62,63,64,65,66,67,68,69,70,71,72,73,74,75,76,77,78,40,41,42,43,44,45,46,47,79],\n",
        "               [49,50,51,52,53,54,55,56,57,58,59,60,61,62,63,64,65,66,67,68,69,70,71,72,73,74,75,76,77,78,40,41,42,43,44,45,46,47,48,79],\n",
        "               [50,51,52,53,54,55,56,57,58,59,60,61,62,63,64,65,66,67,68,69,70,71,72,73,74,75,76,77,78,40,41,42,43,44,45,46,47,48,49,79],\n",
        "               [51,52,53,54,55,56,57,58,59,60,61,62,63,64,65,66,67,68,69,70,71,72,73,74,75,76,77,78,40,41,42,43,44,45,46,47,48,49,50,79],\n",
        "               [52,53,54,55,56,57,58,59,60,61,62,63,64,65,66,67,68,69,70,71,72,73,74,75,76,77,78,40,41,42,43,44,45,46,47,48,49,50,51,79],\n",
        "               [53,54,55,56,57,58,59,60,61,62,63,64,65,66,67,68,69,70,71,72,73,74,75,76,77,78,40,41,42,43,44,45,46,47,48,49,50,51,52,79],\n",
        "               [54,55,56,57,58,59,60,61,62,63,64,65,66,67,68,69,70,71,72,73,74,75,76,77,78,40,41,42,43,44,45,46,47,48,49,50,51,52,53,79],\n",
        "               [55,56,57,58,59,60,61,62,63,64,65,66,67,68,69,70,71,72,73,74,75,76,77,78,40,41,42,43,44,45,46,47,48,49,50,51,52,53,54,79],\n",
        "               [56,57,58,59,60,61,62,63,64,65,66,67,68,69,70,71,72,73,74,75,76,77,78,40,41,42,43,44,45,46,47,48,49,50,51,52,53,54,55,79],\n",
        "               [57,58,59,60,61,62,63,64,65,66,67,68,69,70,71,72,73,74,75,76,77,78,40,41,42,43,44,45,46,47,48,49,50,51,52,53,54,55,56,79],\n",
        "               [58,59,60,61,62,63,64,65,66,67,68,69,70,71,72,73,74,75,76,77,78,40,41,42,43,44,45,46,47,48,49,50,51,52,53,54,55,56,57,79],\n",
        "               [59,60,61,62,63,64,65,66,67,68,69,70,71,72,73,74,75,76,77,78,40,41,42,43,44,45,46,47,48,49,50,51,52,53,54,55,56,57,58,79],\n",
        "               [60,61,62,63,64,65,66,67,68,69,70,71,72,73,74,75,76,77,78,40,41,42,43,44,45,46,47,48,49,50,51,52,53,54,55,56,57,58,59,79],\n",
        "               [61,62,63,64,65,66,67,68,69,70,71,72,73,74,75,76,77,78,40,41,42,43,44,45,46,47,48,49,50,51,52,53,54,55,56,57,58,59,60,79],\n",
        "               [62,63,64,65,66,67,68,69,70,71,72,73,74,75,76,77,78,40,41,42,43,44,45,46,47,48,49,50,51,52,53,54,55,56,57,58,59,60,61,79],\n",
        "               [63,64,65,66,67,68,69,70,71,72,73,74,75,76,77,78,40,41,42,43,44,45,46,47,48,49,50,51,52,53,54,55,56,57,58,59,60,61,62,79],\n",
        "               [64,65,66,67,68,69,70,71,72,73,74,75,76,77,78,40,41,42,43,44,45,46,47,48,49,50,51,52,53,54,55,56,57,58,59,60,61,62,63,79],\n",
        "               [65,66,67,68,69,70,71,72,73,74,75,76,77,78,40,41,42,43,44,45,46,47,48,49,50,51,52,53,54,55,56,57,58,59,60,61,62,63,64,79],\n",
        "               [66,67,68,69,70,71,72,73,74,75,76,77,78,40,41,42,43,44,45,46,47,48,49,50,51,52,53,54,55,56,57,58,59,60,61,62,63,64,65,79],\n",
        "               [67,68,69,70,71,72,73,74,75,76,77,78,40,41,42,43,44,45,46,47,48,49,50,51,52,53,54,55,56,57,58,59,60,61,62,63,64,65,66,79],\n",
        "               [68,69,70,71,72,73,74,75,76,77,78,40,41,42,43,44,45,46,47,48,49,50,51,52,53,54,55,56,57,58,59,60,61,62,63,64,65,66,67,79],\n",
        "               [69,70,71,72,73,74,75,76,77,78,40,41,42,43,44,45,46,47,48,49,50,51,52,53,54,55,56,57,58,59,60,61,62,63,64,65,66,67,68,79],\n",
        "               [70,71,72,73,74,75,76,77,78,40,41,42,43,44,45,46,47,48,49,50,51,52,53,54,55,56,57,58,59,60,61,62,63,64,65,66,67,68,69,79],\n",
        "               [71,72,73,74,75,76,77,78,40,41,42,43,44,45,46,47,48,49,50,51,52,53,54,55,56,57,58,59,60,61,62,63,64,65,66,67,68,69,70,79],\n",
        "               [72,73,74,75,76,77,78,40,41,42,43,44,45,46,47,48,49,50,51,52,53,54,55,56,57,58,59,60,61,62,63,64,65,66,67,68,69,70,71,79],\n",
        "               [73,74,75,76,77,78,40,41,42,43,44,45,46,47,48,49,50,51,52,53,54,55,56,57,58,59,60,61,62,63,64,65,66,67,68,69,70,71,72,79],\n",
        "               [74,75,76,77,78,40,41,42,43,44,45,46,47,48,49,50,51,52,53,54,55,56,57,58,59,60,61,62,63,64,65,66,67,68,69,70,71,72,73,79],\n",
        "               [75,76,77,78,40,41,42,43,44,45,46,47,48,49,50,51,52,53,54,55,56,57,58,59,60,61,62,63,64,65,66,67,68,69,70,71,72,73,74,79],\n",
        "               [76,77,78,40,41,42,43,44,45,46,47,48,49,50,51,52,53,54,55,56,57,58,59,60,61,62,63,64,65,66,67,68,69,70,71,72,73,74,75,79],\n",
        "               [77,78,40,41,42,43,44,45,46,47,48,49,50,51,52,53,54,55,56,57,58,59,60,61,62,63,64,65,66,67,68,69,70,71,72,73,74,75,76,79],\n",
        "               [78,40,41,42,43,44,45,46,47,48,49,50,51,52,53,54,55,56,57,58,59,60,61,62,63,64,65,66,67,68,69,70,71,72,73,74,75,76,77,79],\n",
        "               [40,41,42,43,44,45,46,47,48,49,50,51,52,53,54,55,56,57,58,59,60,61,62,63,64,65,66,67,68,69,70,71,72,73,74,75,76,77,78,79],\n",
        "          [1,2,3,4,5,6,7,8,9,10,11,12,13,14,15,16,17,18,19,20,21,22,23,24,25,26,27,28,29,30,31,32,33,34,35,36,37,38,39,0],\n",
        "          [2,3,4,5,6,7,8,9,10,11,12,13,14,15,16,17,18,19,20,21,22,23,24,25,26,27,28,29,30,31,32,33,34,35,36,37,38,39,0,1],\n",
        "          [3,4,5,6,7,8,9,10,11,12,13,14,15,16,17,18,19,20,21,22,23,24,25,26,27,28,29,30,31,32,33,34,35,36,37,38,39,0,1,2],\n",
        "          [4,5,6,7,8,9,10,11,12,13,14,15,16,17,18,19,20,21,22,23,24,25,26,27,28,29,30,31,32,33,34,35,36,37,38,39,0,1,2,3],\n",
        "          [5,6,7,8,9,10,11,12,13,14,15,16,17,18,19,20,21,22,23,24,25,26,27,28,29,30,31,32,33,34,35,36,37,38,39,0,1,2,3,4],\n",
        "          [6,7,8,9,10,11,12,13,14,15,16,17,18,19,20,21,22,23,24,25,26,27,28,29,30,31,32,33,34,35,36,37,38,39,0,1,2,3,4,5],\n",
        "          [7,8,9,10,11,12,13,14,15,16,17,18,19,20,21,22,23,24,25,26,27,28,29,30,31,32,33,34,35,36,37,38,39,0,1,2,3,4,5,6],\n",
        "          [8,9,10,11,12,13,14,15,16,17,18,19,20,21,22,23,24,25,26,27,28,29,30,31,32,33,34,35,36,37,38,39,0,1,2,3,4,5,6,7],\n",
        "          [9,10,11,12,13,14,15,16,17,18,19,20,21,22,23,24,25,26,27,28,29,30,31,32,33,34,35,36,37,38,39,0,1,2,3,4,5,6,7,8],\n",
        "          [10,11,12,13,14,15,16,17,18,19,20,21,22,23,24,25,26,27,28,29,30,31,32,33,34,35,36,37,38,39,0,1,2,3,4,5,6,7,8,9],\n",
        "          [11,12,13,14,15,16,17,18,19,20,21,22,23,24,25,26,27,28,29,30,31,32,33,34,35,36,37,38,39,0,1,2,3,4,5,6,7,8,9,10],\n",
        "          [12,13,14,15,16,17,18,19,20,21,22,23,24,25,26,27,28,29,30,31,32,33,34,35,36,37,38,39,0,1,2,3,4,5,6,7,8,9,10,11],\n",
        "          [13,14,15,16,17,18,19,20,21,22,23,24,25,26,27,28,29,30,31,32,33,34,35,36,37,38,39,0,1,2,3,4,5,6,7,8,9,10,11,12],\n",
        "          [14,15,16,17,18,19,20,21,22,23,24,25,26,27,28,29,30,31,32,33,34,35,36,37,38,39,0,1,2,3,4,5,6,7,8,9,10,11,12,13],\n",
        "          [15,16,17,18,19,20,21,22,23,24,25,26,27,28,29,30,31,32,33,34,35,36,37,38,39,0,1,2,3,4,5,6,7,8,9,10,11,12,13,14],\n",
        "          [16,17,18,19,20,21,22,23,24,25,26,27,28,29,30,31,32,33,34,35,36,37,38,39,0,1,2,3,4,5,6,7,8,9,10,11,12,13,14,15],\n",
        "          [17,18,19,20,21,22,23,24,25,26,27,28,29,30,31,32,33,34,35,36,37,38,39,0,1,2,3,4,5,6,7,8,9,10,11,12,13,14,15,16],\n",
        "          [18,19,20,21,22,23,24,25,26,27,28,29,30,31,32,33,34,35,36,37,38,39,0,1,2,3,4,5,6,7,8,9,10,11,12,13,14,15,16,17],\n",
        "          [19,20,21,22,23,24,25,26,27,28,29,30,31,32,33,34,35,36,37,38,39,0,1,2,3,4,5,6,7,8,9,10,11,12,13,14,15,16,17,18],\n",
        "          [20,21,22,23,24,25,26,27,28,29,30,31,32,33,34,35,36,37,38,39,0,1,2,3,4,5,6,7,8,9,10,11,12,13,14,15,16,17,18,19],\n",
        "          [21,22,23,24,25,26,27,28,29,30,31,32,33,34,35,36,37,38,39,0,1,2,3,4,5,6,7,8,9,10,11,12,13,14,15,16,17,18,19,20],\n",
        "          [22,23,24,25,26,27,28,29,30,31,32,33,34,35,36,37,38,39,0,1,2,3,4,5,6,7,8,9,10,11,12,13,14,15,16,17,18,19,20,21],\n",
        "          [23,24,25,26,27,28,29,30,31,32,33,34,35,36,37,38,39,0,1,2,3,4,5,6,7,8,9,10,11,12,13,14,15,16,17,18,19,20,21,22],\n",
        "          [24,25,26,27,28,29,30,31,32,33,34,35,36,37,38,39,0,1,2,3,4,5,6,7,8,9,10,11,12,13,14,15,16,17,18,19,20,21,22,23],\n",
        "          [25,26,27,28,29,30,31,32,33,34,35,36,37,38,39,0,1,2,3,4,5,6,7,8,9,10,11,12,13,14,15,16,17,18,19,20,21,22,23,24],\n",
        "          [26,27,28,29,30,31,32,33,34,35,36,37,38,39,0,1,2,3,4,5,6,7,8,9,10,11,12,13,14,15,16,17,18,19,20,21,22,23,24,25],\n",
        "          [27,28,29,30,31,32,33,34,35,36,37,38,39,0,1,2,3,4,5,6,7,8,9,10,11,12,13,14,15,16,17,18,19,20,21,22,23,24,25,26],\n",
        "          [28,29,30,31,32,33,34,35,36,37,38,39,0,1,2,3,4,5,6,7,8,9,10,11,12,13,14,15,16,17,18,19,20,21,22,23,24,25,26,27],\n",
        "          [29,30,31,32,33,34,35,36,37,38,39,0,1,2,3,4,5,6,7,8,9,10,11,12,13,14,15,16,17,18,19,20,21,22,23,24,25,26,27,28],\n",
        "          [30,31,32,33,34,35,36,37,38,39,0,1,2,3,4,5,6,7,8,9,10,11,12,13,14,15,16,17,18,19,20,21,22,23,24,25,26,27,28,29],\n",
        "          [31,32,33,34,35,36,37,38,39,0,1,2,3,4,5,6,7,8,9,10,11,12,13,14,15,16,17,18,19,20,21,22,23,24,25,26,27,28,29,30],\n",
        "          [32,33,34,35,36,37,38,39,0,1,2,3,4,5,6,7,8,9,10,11,12,13,14,15,16,17,18,19,20,21,22,23,24,25,26,27,28,29,30,31],\n",
        "          [33,34,35,36,37,38,39,0,1,2,3,4,5,6,7,8,9,10,11,12,13,14,15,16,17,18,19,20,21,22,23,24,25,26,27,28,29,30,31,32],\n",
        "          [34,35,36,37,38,39,0,1,2,3,4,5,6,7,8,9,10,11,12,13,14,15,16,17,18,19,20,21,22,23,24,25,26,27,28,29,30,31,32,33],\n",
        "          [35,36,37,38,39,0,1,2,3,4,5,6,7,8,9,10,11,12,13,14,15,16,17,18,19,20,21,22,23,24,25,26,27,28,29,30,31,32,33,34],\n",
        "          [36,37,38,39,0,1,2,3,4,5,6,7,8,9,10,11,12,13,14,15,16,17,18,19,20,21,22,23,24,25,26,27,28,29,30,31,32,33,34,35],\n",
        "          [37,38,39,0,1,2,3,4,5,6,7,8,9,10,11,12,13,14,15,16,17,18,19,20,21,22,23,24,25,26,27,28,29,30,31,32,33,34,35,36],\n",
        "          [38,39,0,1,2,3,4,5,6,7,8,9,10,11,12,13,14,15,16,17,18,19,20,21,22,23,24,25,26,27,28,29,30,31,32,33,34,35,36,37],\n",
        "          [39,0,1,2,3,4,5,6,7,8,9,10,11,12,13,14,15,16,17,18,19,20,21,22,23,24,25,26,27,28,29,30,31,32,33,34,35,36,37,38]] \n",
        "\n",
        "(wPartner, iteration,proporsal) = stableMarriage(prefer, N)\n",
        "\n",
        "print(\"Number of iterations: \", iteration)\n",
        "print(\"Number of proporsal: \", proporsal)\n",
        "print(\"Woman \", \" Man\")\n",
        "for i in range(N):\n",
        "  print(i + N, \"\\t\", wPartner[i])"
      ],
      "execution_count": 6,
      "outputs": [
        {
          "output_type": "stream",
          "text": [
            "Number of iterations:  40\n",
            "Number of proporsal:  1561\n",
            "Woman   Man\n",
            "40 \t 1\n",
            "41 \t 2\n",
            "42 \t 3\n",
            "43 \t 4\n",
            "44 \t 5\n",
            "45 \t 6\n",
            "46 \t 7\n",
            "47 \t 8\n",
            "48 \t 9\n",
            "49 \t 10\n",
            "50 \t 11\n",
            "51 \t 12\n",
            "52 \t 13\n",
            "53 \t 14\n",
            "54 \t 15\n",
            "55 \t 16\n",
            "56 \t 17\n",
            "57 \t 18\n",
            "58 \t 19\n",
            "59 \t 20\n",
            "60 \t 21\n",
            "61 \t 22\n",
            "62 \t 23\n",
            "63 \t 24\n",
            "64 \t 25\n",
            "65 \t 26\n",
            "66 \t 27\n",
            "67 \t 28\n",
            "68 \t 29\n",
            "69 \t 30\n",
            "70 \t 31\n",
            "71 \t 32\n",
            "72 \t 33\n",
            "73 \t 34\n",
            "74 \t 35\n",
            "75 \t 36\n",
            "76 \t 37\n",
            "77 \t 38\n",
            "78 \t 39\n",
            "79 \t 0\n"
          ],
          "name": "stdout"
        }
      ]
    },
    {
      "cell_type": "markdown",
      "metadata": {
        "id": "GS0RFLzQNc-V"
      },
      "source": [
        "## 100 veces algoritmo parejas estables\n",
        "se tomo como valor de $n = 30$ pra la realizar las 100 simulaciones"
      ]
    },
    {
      "cell_type": "code",
      "metadata": {
        "id": "0Kli3LKdN9gH",
        "colab": {
          "base_uri": "https://localhost:8080/",
          "height": 348
        },
        "outputId": "4678b79d-2289-40e7-ad22-ab8cf167d712"
      },
      "source": [
        "iterations = []\n",
        "total = 0\n",
        "total_proporsal = 0\n",
        "\n",
        "for i in range(100):\n",
        "  N = 30\n",
        "  prefer = [[] for i in range(2*N)]\n",
        "  # Generacion de las listas de preferencia de los Niños\n",
        "  for i in range(N):\n",
        "    prefer[i] = list (np.random.permutation([j for j in range(N, 2*N)]))\n",
        "\n",
        "  # Generacion de las listas de preferencia de las Niñas\n",
        "  for i in range(N, 2*N):\n",
        "    prefer[i] = list (np.random.permutation([j for j in range(N)]))\n",
        "\n",
        "  (wPartner, iteration, proporsal) = stableMarriage(prefer, N)\n",
        "  total += iteration\n",
        "  total_proporsal += proporsal\n",
        "  iterations.append(iteration)\n",
        "\n",
        "print('Numero Promedio de Iteraciones: {}\\nNumero minimo de Iteraciones: {}\\nNumero Maximo e Iteraciones: {}'.format(total//N, min(iterations), max(iterations)))\n",
        "print('Promedio de propuestas: {}'.format(total_proporsal // N))\n",
        "bins = list (set (iterations))\n",
        "plt.style.use('seaborn-white')\n",
        "plt.hist(iterations,density=True,label=['# Iterations'])\n",
        "plt.xlabel('# Iterations')\n",
        "plt.ylabel('Density');"
      ],
      "execution_count": 7,
      "outputs": [
        {
          "output_type": "stream",
          "text": [
            "Numero Promedio de Iteraciones: 23\n",
            "Numero minimo de Iteraciones: 3\n",
            "Numero Maximo e Iteraciones: 16\n",
            "Promedio de propuestas: 184\n"
          ],
          "name": "stdout"
        },
        {
          "output_type": "display_data",
          "data": {
            "image/png": "[encoded data removed]",
            "text/plain": [
              "<Figure size 432x288 with 1 Axes>"
            ]
          },
          "metadata": {
            "tags": []
          }
        }
      ]
    },
    {
      "cell_type": "markdown",
      "metadata": {
        "id": "BTpR4q6NQxtP"
      },
      "source": [
        "## Referencia\n",
        "* https://www.geeksforgeeks.org/stable-marriage-problem/\n"
      ]
    }
  ]
}